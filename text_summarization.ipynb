{
 "cells": [
  {
   "cell_type": "markdown",
   "metadata": {},
   "source": [
    "## This text summarization is based on frequency of words present in the text."
   ]
  },
  {
   "cell_type": "markdown",
   "metadata": {},
   "source": [
    "Importing libraries"
   ]
  },
  {
   "cell_type": "code",
   "execution_count": 1,
   "metadata": {},
   "outputs": [],
   "source": [
    "import pandas as pd\n",
    "import numpy as np\n",
    "from nltk.corpus import stopwords\n",
    "from nltk.stem import WordNetLemmatizer, PorterStemmer\n",
    "from nltk.tokenize import word_tokenize, sent_tokenize\n",
    "import re"
   ]
  },
  {
   "cell_type": "markdown",
   "metadata": {},
   "source": [
    "Reading the dataset"
   ]
  },
  {
   "cell_type": "code",
   "execution_count": 2,
   "metadata": {},
   "outputs": [],
   "source": [
    "df = pd.read_excel('TASK.xlsx')"
   ]
  },
  {
   "cell_type": "code",
   "execution_count": 3,
   "metadata": {},
   "outputs": [
    {
     "data": {
      "text/html": [
       "<div>\n",
       "<style scoped>\n",
       "    .dataframe tbody tr th:only-of-type {\n",
       "        vertical-align: middle;\n",
       "    }\n",
       "\n",
       "    .dataframe tbody tr th {\n",
       "        vertical-align: top;\n",
       "    }\n",
       "\n",
       "    .dataframe thead th {\n",
       "        text-align: right;\n",
       "    }\n",
       "</style>\n",
       "<table border=\"1\" class=\"dataframe\">\n",
       "  <thead>\n",
       "    <tr style=\"text-align: right;\">\n",
       "      <th></th>\n",
       "      <th>TEST DATASET</th>\n",
       "      <th>Unnamed: 1</th>\n",
       "    </tr>\n",
       "  </thead>\n",
       "  <tbody>\n",
       "    <tr>\n",
       "      <th>0</th>\n",
       "      <td>NaN</td>\n",
       "      <td>Introduction</td>\n",
       "    </tr>\n",
       "    <tr>\n",
       "      <th>1</th>\n",
       "      <td>NaN</td>\n",
       "      <td>Acnesol Gel is an antibiotic that fights bacte...</td>\n",
       "    </tr>\n",
       "    <tr>\n",
       "      <th>2</th>\n",
       "      <td>NaN</td>\n",
       "      <td>Ambrodil Syrup is used for treating various re...</td>\n",
       "    </tr>\n",
       "    <tr>\n",
       "      <th>3</th>\n",
       "      <td>NaN</td>\n",
       "      <td>Augmentin 625 Duo Tablet is a penicillin-type ...</td>\n",
       "    </tr>\n",
       "    <tr>\n",
       "      <th>4</th>\n",
       "      <td>NaN</td>\n",
       "      <td>Azithral 500 Tablet is an antibiotic used to t...</td>\n",
       "    </tr>\n",
       "  </tbody>\n",
       "</table>\n",
       "</div>"
      ],
      "text/plain": [
       "   TEST DATASET                                         Unnamed: 1\n",
       "0           NaN                                       Introduction\n",
       "1           NaN  Acnesol Gel is an antibiotic that fights bacte...\n",
       "2           NaN  Ambrodil Syrup is used for treating various re...\n",
       "3           NaN  Augmentin 625 Duo Tablet is a penicillin-type ...\n",
       "4           NaN  Azithral 500 Tablet is an antibiotic used to t..."
      ]
     },
     "execution_count": 3,
     "metadata": {},
     "output_type": "execute_result"
    }
   ],
   "source": [
    "df.head()"
   ]
  },
  {
   "cell_type": "code",
   "execution_count": 4,
   "metadata": {},
   "outputs": [
    {
     "data": {
      "text/plain": [
       "(1001, 2)"
      ]
     },
     "execution_count": 4,
     "metadata": {},
     "output_type": "execute_result"
    }
   ],
   "source": [
    "df.shape"
   ]
  },
  {
   "cell_type": "code",
   "execution_count": 5,
   "metadata": {},
   "outputs": [
    {
     "name": "stdout",
     "output_type": "stream",
     "text": [
      "<class 'pandas.core.frame.DataFrame'>\n",
      "RangeIndex: 1001 entries, 0 to 1000\n",
      "Data columns (total 2 columns):\n",
      " #   Column        Non-Null Count  Dtype  \n",
      "---  ------        --------------  -----  \n",
      " 0   TEST DATASET  0 non-null      float64\n",
      " 1   Unnamed: 1    1001 non-null   object \n",
      "dtypes: float64(1), object(1)\n",
      "memory usage: 15.8+ KB\n"
     ]
    }
   ],
   "source": [
    "df.info()"
   ]
  },
  {
   "cell_type": "markdown",
   "metadata": {},
   "source": [
    "In the dataset we can see that 'TEST DATASET' contains all the NaN values. So, we will drop this column and we can also see that second column have column name as 'Unnamed:1' and 0th row contain no any paragrabh but a word 'introduction'. So, we will rename second column as 'introduction' and we will remove 0th row from the dataset. "
   ]
  },
  {
   "cell_type": "markdown",
   "metadata": {},
   "source": [
    "Dropping 'TEST DATASET' column"
   ]
  },
  {
   "cell_type": "code",
   "execution_count": 6,
   "metadata": {},
   "outputs": [],
   "source": [
    "df.drop('TEST DATASET',inplace = True,axis=1)"
   ]
  },
  {
   "cell_type": "markdown",
   "metadata": {},
   "source": [
    "Renaming 'Unnames: 1' column as 'introduction'"
   ]
  },
  {
   "cell_type": "code",
   "execution_count": 7,
   "metadata": {},
   "outputs": [],
   "source": [
    "df.rename({'Unnamed: 1':'introduction'},inplace=True,axis=1)"
   ]
  },
  {
   "cell_type": "markdown",
   "metadata": {},
   "source": [
    "Removing 0th row from the dataset and resetting the index off the dataset."
   ]
  },
  {
   "cell_type": "code",
   "execution_count": 8,
   "metadata": {},
   "outputs": [
    {
     "data": {
      "text/html": [
       "<div>\n",
       "<style scoped>\n",
       "    .dataframe tbody tr th:only-of-type {\n",
       "        vertical-align: middle;\n",
       "    }\n",
       "\n",
       "    .dataframe tbody tr th {\n",
       "        vertical-align: top;\n",
       "    }\n",
       "\n",
       "    .dataframe thead th {\n",
       "        text-align: right;\n",
       "    }\n",
       "</style>\n",
       "<table border=\"1\" class=\"dataframe\">\n",
       "  <thead>\n",
       "    <tr style=\"text-align: right;\">\n",
       "      <th></th>\n",
       "      <th>introduction</th>\n",
       "    </tr>\n",
       "  </thead>\n",
       "  <tbody>\n",
       "    <tr>\n",
       "      <th>0</th>\n",
       "      <td>Acnesol Gel is an antibiotic that fights bacte...</td>\n",
       "    </tr>\n",
       "    <tr>\n",
       "      <th>1</th>\n",
       "      <td>Ambrodil Syrup is used for treating various re...</td>\n",
       "    </tr>\n",
       "    <tr>\n",
       "      <th>2</th>\n",
       "      <td>Augmentin 625 Duo Tablet is a penicillin-type ...</td>\n",
       "    </tr>\n",
       "    <tr>\n",
       "      <th>3</th>\n",
       "      <td>Azithral 500 Tablet is an antibiotic used to t...</td>\n",
       "    </tr>\n",
       "    <tr>\n",
       "      <th>4</th>\n",
       "      <td>Alkasol Oral Solution is a medicine used in th...</td>\n",
       "    </tr>\n",
       "  </tbody>\n",
       "</table>\n",
       "</div>"
      ],
      "text/plain": [
       "                                        introduction\n",
       "0  Acnesol Gel is an antibiotic that fights bacte...\n",
       "1  Ambrodil Syrup is used for treating various re...\n",
       "2  Augmentin 625 Duo Tablet is a penicillin-type ...\n",
       "3  Azithral 500 Tablet is an antibiotic used to t...\n",
       "4  Alkasol Oral Solution is a medicine used in th..."
      ]
     },
     "execution_count": 8,
     "metadata": {},
     "output_type": "execute_result"
    }
   ],
   "source": [
    "df = df[1:]\n",
    "df = df.reset_index(drop=True)\n",
    "df.head()"
   ]
  },
  {
   "cell_type": "markdown",
   "metadata": {},
   "source": [
    "Since this dataset contains texts so, we will clean the dataset, because it will contain many numbers, special characters, stopwords etc. Since our text summarization is based on frequency of words in the text so, we will only go with important words in the text."
   ]
  },
  {
   "cell_type": "markdown",
   "metadata": {},
   "source": [
    "Steps to clean text:\n",
    "* Remove all numbers and special characters with the help of regular expression and convert each word to lowercase.\n",
    "* Now tokenize the text. It will convert the text to list of words.\n",
    "* Converting each word to their root form with the help of stemming.\n",
    "* Now remove all the stopwords."
   ]
  },
  {
   "cell_type": "code",
   "execution_count": 9,
   "metadata": {},
   "outputs": [],
   "source": [
    "def clean_text(text):\n",
    "    text = re.sub('[^A-Za-z]',' ',text).lower()\n",
    "    words = word_tokenize(text)\n",
    "    stopWords = set(stopwords.words('english'))\n",
    "    ps = PorterStemmer()\n",
    "    cleanedText = []\n",
    "    for word in words:\n",
    "        word = ps.stem(word)\n",
    "        if word in stopWords:\n",
    "            continue\n",
    "        else:\n",
    "            cleanedText.append(word)\n",
    "    return cleanedText"
   ]
  },
  {
   "cell_type": "markdown",
   "metadata": {},
   "source": [
    "#### Creating a dictionary of word frequency. "
   ]
  },
  {
   "cell_type": "markdown",
   "metadata": {},
   "source": [
    "The 'word_freq_dict' function will return a dictionary which will contain word as key and word frequency as value."
   ]
  },
  {
   "cell_type": "code",
   "execution_count": 10,
   "metadata": {},
   "outputs": [],
   "source": [
    "def word_freq_dict(text):\n",
    "    words = clean_text(text)\n",
    "    freq_dict = {}\n",
    "    for word in words:\n",
    "        if word in freq_dict:\n",
    "            freq_dict[word]+=1\n",
    "        else:\n",
    "            freq_dict[word]=1\n",
    "    return freq_dict"
   ]
  },
  {
   "cell_type": "markdown",
   "metadata": {},
   "source": [
    "#### Calculating score of sentences in the text"
   ]
  },
  {
   "cell_type": "markdown",
   "metadata": {},
   "source": [
    "The text which we want to summerize will contain many sentences.So, we will calculate score of every sentence based on frequency of words which are present in the word."
   ]
  },
  {
   "cell_type": "markdown",
   "metadata": {},
   "source": [
    "Large sentences will contain large number of words so, their score will be more. So, we will divide score of sentence by the number of words present in the sentence."
   ]
  },
  {
   "cell_type": "markdown",
   "metadata": {},
   "source": [
    "The 'sentence_score' function will return dictionaty of sentence score where key will be the 5th to 19th character of the sentence so that key of one sentence should not match with the key of other sentences, value willbe the score of each sentences."
   ]
  },
  {
   "cell_type": "code",
   "execution_count": 11,
   "metadata": {},
   "outputs": [],
   "source": [
    "def sentence_score(text,freq_dict):\n",
    "    sentences = sent_tokenize(text)\n",
    "    sentence_importance = {}\n",
    "    for sentence in sentences:\n",
    "        words = clean_text(sentence)\n",
    "        sentence_length = len(words)\n",
    "        for word_value in freq_dict:\n",
    "            if word_value in words:\n",
    "                if sentence[5:20] in sentence_importance:\n",
    "                    sentence_importance[sentence[5:20]]+=freq_dict[word_value]\n",
    "                else:\n",
    "                    sentence_importance[sentence[5:20]]=freq_dict[word_value]\n",
    "        sentence_importance[sentence[5:20]] = round(sentence_importance[sentence[5:20]]/sentence_length,2)\n",
    "    return sentence_importance   "
   ]
  },
  {
   "cell_type": "markdown",
   "metadata": {},
   "source": [
    "#### Calculate average score of the text"
   ]
  },
  {
   "cell_type": "markdown",
   "metadata": {},
   "source": [
    "We are calculating average score of the text because we want to show only those sentences of the text which have score greater than the average score."
   ]
  },
  {
   "cell_type": "code",
   "execution_count": 12,
   "metadata": {},
   "outputs": [],
   "source": [
    "def average_score(sentence_importance):\n",
    "    total = 0\n",
    "    for i in sentence_importance:\n",
    "        total += sentence_importance[i]\n",
    "    average = round(total/len(sentence_importance),2)\n",
    "    return average"
   ]
  },
  {
   "cell_type": "markdown",
   "metadata": {},
   "source": [
    "#### Generating summary"
   ]
  },
  {
   "cell_type": "code",
   "execution_count": 13,
   "metadata": {},
   "outputs": [],
   "source": [
    "def create_summary(text,average,sentence_importance):\n",
    "    sentences = sent_tokenize(text)\n",
    "    summary = ''\n",
    "    for sentence in sentences:\n",
    "        if sentence[5:20] in sentence_importance and sentence_importance[sentence[5:20]]>average:\n",
    "            summary += \" \"+sentence\n",
    "    return summary"
   ]
  },
  {
   "cell_type": "markdown",
   "metadata": {},
   "source": [
    "We are going to add the summary of texts in the same excel file but in different column which is 'summary' column."
   ]
  },
  {
   "cell_type": "code",
   "execution_count": 14,
   "metadata": {},
   "outputs": [],
   "source": [
    "df['summary']=''"
   ]
  },
  {
   "cell_type": "code",
   "execution_count": 15,
   "metadata": {},
   "outputs": [],
   "source": [
    "for i in range (df.shape[0]):\n",
    "    text = df.introduction[i]\n",
    "    word_frequency_dictionary = word_freq_dict(text)\n",
    "    text_sentence_score = sentence_score(text,word_frequency_dictionary)\n",
    "    average_val = average_score(text_sentence_score)\n",
    "    summary = create_summary(text,average_val,text_sentence_score)\n",
    "    df['summary'][i]=summary "
   ]
  },
  {
   "cell_type": "code",
   "execution_count": 16,
   "metadata": {},
   "outputs": [
    {
     "data": {
      "text/html": [
       "<div>\n",
       "<style scoped>\n",
       "    .dataframe tbody tr th:only-of-type {\n",
       "        vertical-align: middle;\n",
       "    }\n",
       "\n",
       "    .dataframe tbody tr th {\n",
       "        vertical-align: top;\n",
       "    }\n",
       "\n",
       "    .dataframe thead th {\n",
       "        text-align: right;\n",
       "    }\n",
       "</style>\n",
       "<table border=\"1\" class=\"dataframe\">\n",
       "  <thead>\n",
       "    <tr style=\"text-align: right;\">\n",
       "      <th></th>\n",
       "      <th>introduction</th>\n",
       "      <th>summary</th>\n",
       "    </tr>\n",
       "  </thead>\n",
       "  <tbody>\n",
       "    <tr>\n",
       "      <th>0</th>\n",
       "      <td>Acnesol Gel is an antibiotic that fights bacte...</td>\n",
       "      <td>This medicine works by attacking the bacteria...</td>\n",
       "    </tr>\n",
       "    <tr>\n",
       "      <th>1</th>\n",
       "      <td>Ambrodil Syrup is used for treating various re...</td>\n",
       "      <td>It is advised not to use it for more than 14 ...</td>\n",
       "    </tr>\n",
       "    <tr>\n",
       "      <th>2</th>\n",
       "      <td>Augmentin 625 Duo Tablet is a penicillin-type ...</td>\n",
       "      <td>You should take it regularly at evenly spaced...</td>\n",
       "    </tr>\n",
       "    <tr>\n",
       "      <th>3</th>\n",
       "      <td>Azithral 500 Tablet is an antibiotic used to t...</td>\n",
       "      <td>This medicine is taken orally, preferably eit...</td>\n",
       "    </tr>\n",
       "    <tr>\n",
       "      <th>4</th>\n",
       "      <td>Alkasol Oral Solution is a medicine used in th...</td>\n",
       "      <td>Alkasol Oral Solution is a medicine used in t...</td>\n",
       "    </tr>\n",
       "  </tbody>\n",
       "</table>\n",
       "</div>"
      ],
      "text/plain": [
       "                                        introduction  \\\n",
       "0  Acnesol Gel is an antibiotic that fights bacte...   \n",
       "1  Ambrodil Syrup is used for treating various re...   \n",
       "2  Augmentin 625 Duo Tablet is a penicillin-type ...   \n",
       "3  Azithral 500 Tablet is an antibiotic used to t...   \n",
       "4  Alkasol Oral Solution is a medicine used in th...   \n",
       "\n",
       "                                             summary  \n",
       "0   This medicine works by attacking the bacteria...  \n",
       "1   It is advised not to use it for more than 14 ...  \n",
       "2   You should take it regularly at evenly spaced...  \n",
       "3   This medicine is taken orally, preferably eit...  \n",
       "4   Alkasol Oral Solution is a medicine used in t...  "
      ]
     },
     "execution_count": 16,
     "metadata": {},
     "output_type": "execute_result"
    }
   ],
   "source": [
    "df.head()"
   ]
  },
  {
   "cell_type": "markdown",
   "metadata": {},
   "source": [
    "#### Saving the dataframe to a excel file"
   ]
  },
  {
   "cell_type": "code",
   "execution_count": 17,
   "metadata": {},
   "outputs": [],
   "source": [
    "df.to_excel('summary.xlsx')"
   ]
  }
 ],
 "metadata": {
  "kernelspec": {
   "display_name": "Python 3",
   "language": "python",
   "name": "python3"
  },
  "language_info": {
   "codemirror_mode": {
    "name": "ipython",
    "version": 3
   },
   "file_extension": ".py",
   "mimetype": "text/x-python",
   "name": "python",
   "nbconvert_exporter": "python",
   "pygments_lexer": "ipython3",
   "version": "3.7.4"
  }
 },
 "nbformat": 4,
 "nbformat_minor": 4
}
